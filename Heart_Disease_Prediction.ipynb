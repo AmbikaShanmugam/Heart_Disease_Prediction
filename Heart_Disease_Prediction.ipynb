{
 "cells": [
  {
   "cell_type": "markdown",
   "id": "82eb7afb",
   "metadata": {},
   "source": [
    "### Goal: Predict whether a patient has Heart Disease or not."
   ]
  },
  {
   "cell_type": "markdown",
   "id": "81f4f447",
   "metadata": {},
   "source": [
    "Input Dataset: https://www.kaggle.com/ronitf/heart-disease-uci"
   ]
  },
  {
   "cell_type": "code",
   "execution_count": 1,
   "id": "e5c99fa7",
   "metadata": {},
   "outputs": [],
   "source": [
    "import pandas as pd\n",
    "import numpy as np\n",
    "import matplotlib.pyplot as plt\n",
    "import seaborn as sns\n",
    "%matplotlib inline"
   ]
  },
  {
   "cell_type": "code",
   "execution_count": 2,
   "id": "8cf0f3a2",
   "metadata": {},
   "outputs": [],
   "source": [
    "# Models selection from scikit_learn\n",
    "from sklearn.linear_model import LogisticRegression\n",
    "from sklearn.neighbors import KNeighborsClassifier\n",
    "from sklearn.ensemble import RandomForestClassifier\n",
    "from sklearn.linear_model import LinearRegression\n",
    "from sklearn.svm import SVC\n",
    "\n",
    "# Model Evaluation \n",
    "from sklearn.model_selection import train_test_split,RandomizedSearchCV, GridSearchCV, cross_val_score\n",
    "from sklearn.metrics import confusion_matrix, classification_report\n",
    "from sklearn.metrics import precision_score, recall_score, f1_score\n",
    "from sklearn.metrics import plot_roc_curve"
   ]
  },
  {
   "cell_type": "code",
   "execution_count": 3,
   "id": "d3ca9bf8",
   "metadata": {},
   "outputs": [
    {
     "data": {
      "text/plain": [
       "(303, 14)"
      ]
     },
     "execution_count": 3,
     "metadata": {},
     "output_type": "execute_result"
    }
   ],
   "source": [
    "# Load the input data \n",
    "df=pd.read_csv('heart-disease.csv')\n",
    "df.shape"
   ]
  },
  {
   "cell_type": "markdown",
   "id": "25c7a057",
   "metadata": {},
   "source": [
    "#### output variable 'Target' "
   ]
  },
  {
   "cell_type": "code",
   "execution_count": 15,
   "id": "65de2399",
   "metadata": {},
   "outputs": [
    {
     "data": {
      "text/plain": [
       "1    165\n",
       "0    138\n",
       "Name: target, dtype: int64"
      ]
     },
     "execution_count": 15,
     "metadata": {},
     "output_type": "execute_result"
    }
   ],
   "source": [
    "df.target.value_counts()\n",
    "# 1 refers to 'Heart disease' , 0 refers to 'No Heart Disease'"
   ]
  },
  {
   "cell_type": "code",
   "execution_count": 60,
   "id": "be30faf0",
   "metadata": {},
   "outputs": [
    {
     "data": {
      "image/png": "[encoded data removed]",
      "text/plain": [
       "<Figure size 432x288 with 1 Axes>"
      ]
     },
     "metadata": {
      "needs_background": "light"
     },
     "output_type": "display_data"
    }
   ],
   "source": [
    "df.target.value_counts().plot(kind='bar',\n",
    "                              color=['blue','grey'])\n",
    "plt.title('Heart Disease Ratio')\n",
    "plt.xlabel('1 - Yes , o -No')\n",
    "plt.ylabel('No of Patients');"
   ]
  },
  {
   "cell_type": "markdown",
   "id": "8e88d9d8",
   "metadata": {},
   "source": [
    "#### Exploratory Data Analysis"
   ]
  },
  {
   "cell_type": "code",
   "execution_count": 30,
   "id": "23b88779",
   "metadata": {},
   "outputs": [
    {
     "name": "stdout",
     "output_type": "stream",
     "text": [
      "<class 'pandas.core.frame.DataFrame'>\n",
      "RangeIndex: 303 entries, 0 to 302\n",
      "Data columns (total 14 columns):\n",
      " #   Column    Non-Null Count  Dtype  \n",
      "---  ------    --------------  -----  \n",
      " 0   age       303 non-null    int64  \n",
      " 1   sex       303 non-null    int64  \n",
      " 2   cp        303 non-null    int64  \n",
      " 3   trestbps  303 non-null    int64  \n",
      " 4   chol      303 non-null    int64  \n",
      " 5   fbs       303 non-null    int64  \n",
      " 6   restecg   303 non-null    int64  \n",
      " 7   thalach   303 non-null    int64  \n",
      " 8   exang     303 non-null    int64  \n",
      " 9   oldpeak   303 non-null    float64\n",
      " 10  slope     303 non-null    int64  \n",
      " 11  ca        303 non-null    int64  \n",
      " 12  thal      303 non-null    int64  \n",
      " 13  target    303 non-null    int64  \n",
      "dtypes: float64(1), int64(13)\n",
      "memory usage: 33.3 KB\n"
     ]
    }
   ],
   "source": [
    "df.info()"
   ]
  },
  {
   "cell_type": "code",
   "execution_count": 37,
   "id": "1519afbd",
   "metadata": {},
   "outputs": [
    {
     "data": {
      "text/plain": [
       "age         0\n",
       "sex         0\n",
       "cp          0\n",
       "trestbps    0\n",
       "chol        0\n",
       "fbs         0\n",
       "restecg     0\n",
       "thalach     0\n",
       "exang       0\n",
       "oldpeak     0\n",
       "slope       0\n",
       "ca          0\n",
       "thal        0\n",
       "target      0\n",
       "dtype: int64"
      ]
     },
     "execution_count": 37,
     "metadata": {},
     "output_type": "execute_result"
    }
   ],
   "source": [
    "#df.isnull().sum()\n",
    "df.isna().sum() "
   ]
  },
  {
   "cell_type": "markdown",
   "id": "a90c3219",
   "metadata": {},
   "source": [
    "#### There are 'No missing values' as per the above results"
   ]
  },
  {
   "cell_type": "code",
   "execution_count": 62,
   "id": "31b92a7f",
   "metadata": {},
   "outputs": [
    {
     "data": {
      "text/plain": [
       "1    207\n",
       "0     96\n",
       "Name: sex, dtype: int64"
      ]
     },
     "execution_count": 62,
     "metadata": {},
     "output_type": "execute_result"
    }
   ],
   "source": [
    "df.sex.value_counts()\n",
    "# sex -0 refers to female , 1 refers to male"
   ]
  },
  {
   "cell_type": "code",
   "execution_count": 64,
   "id": "a88b689f",
   "metadata": {},
   "outputs": [
    {
     "data": {
      "text/html": [
       "<div>\n",
       "<style scoped>\n",
       "    .dataframe tbody tr th:only-of-type {\n",
       "        vertical-align: middle;\n",
       "    }\n",
       "\n",
       "    .dataframe tbody tr th {\n",
       "        vertical-align: top;\n",
       "    }\n",
       "\n",
       "    .dataframe thead th {\n",
       "        text-align: right;\n",
       "    }\n",
       "</style>\n",
       "<table border=\"1\" class=\"dataframe\">\n",
       "  <thead>\n",
       "    <tr style=\"text-align: right;\">\n",
       "      <th>sex</th>\n",
       "      <th>0</th>\n",
       "      <th>1</th>\n",
       "    </tr>\n",
       "    <tr>\n",
       "      <th>target</th>\n",
       "      <th></th>\n",
       "      <th></th>\n",
       "    </tr>\n",
       "  </thead>\n",
       "  <tbody>\n",
       "    <tr>\n",
       "      <th>0</th>\n",
       "      <td>24</td>\n",
       "      <td>114</td>\n",
       "    </tr>\n",
       "    <tr>\n",
       "      <th>1</th>\n",
       "      <td>72</td>\n",
       "      <td>93</td>\n",
       "    </tr>\n",
       "  </tbody>\n",
       "</table>\n",
       "</div>"
      ],
      "text/plain": [
       "sex      0    1\n",
       "target         \n",
       "0       24  114\n",
       "1       72   93"
      ]
     },
     "execution_count": 64,
     "metadata": {},
     "output_type": "execute_result"
    }
   ],
   "source": [
    "pd.crosstab(df.target,df.sex)"
   ]
  },
  {
   "cell_type": "code",
   "execution_count": 78,
   "id": "08c2de35",
   "metadata": {},
   "outputs": [
    {
     "data": {
      "image/png": "[encoded data removed]",
      "text/plain": [
       "<Figure size 432x288 with 1 Axes>"
      ]
     },
     "metadata": {
      "needs_background": "light"
     },
     "output_type": "display_data"
    }
   ],
   "source": [
    "pd.crosstab(df.target, df.sex).plot(kind='bar',\n",
    "                                   color=['blue','purple'])\n",
    "plt.title('Heart Disease Ratio per Sex')\n",
    "plt.xlabel('0 -No Disease , 1-Disease')\n",
    "plt.ylabel('No of Patients')\n",
    "plt.xticks(rotation=0);"
   ]
  },
  {
   "cell_type": "code",
   "execution_count": 81,
   "id": "2d7e8db1",
   "metadata": {},
   "outputs": [
    {
     "data": {
      "image/png": "[encoded data removed]",
      "text/plain": [
       "<Figure size 432x288 with 1 Axes>"
      ]
     },
     "metadata": {
      "needs_background": "light"
     },
     "output_type": "display_data"
    }
   ],
   "source": [
    "# Age column using Histogram to find Normal distribution & Outliers\n",
    "df.age.plot.hist();"
   ]
  },
  {
   "cell_type": "code",
   "execution_count": 87,
   "id": "1f10c769",
   "metadata": {},
   "outputs": [
    {
     "data": {
      "image/png": "[encoded data removed]",
      "text/plain": [
       "<Figure size 432x288 with 1 Axes>"
      ]
     },
     "metadata": {
      "needs_background": "light"
     },
     "output_type": "display_data"
    }
   ],
   "source": [
    "# Compare age and Max Heart Rate  (thalach column) for patients with heart disease\n",
    "plt.scatter(df.age[df.target==1],\n",
    "            df.thalach[df.target==1])\n",
    "\n",
    "plt.scatter(df.age[df.target==0],\n",
    "            df.thalach[df.target==0])\n",
    "\n",
    "plt.title ('Age and Max Heart Rate comparison')\n",
    "plt.xlabel('Age')\n",
    "plt.ylabel('Max Heart Rate')\n",
    "plt.legend(['Disease','No Disease']);"
   ]
  },
  {
   "cell_type": "code",
   "execution_count": 88,
   "id": "32e3e0fc",
   "metadata": {},
   "outputs": [
    {
     "data": {
      "text/plain": [
       "0    143\n",
       "2     87\n",
       "1     50\n",
       "3     23\n",
       "Name: cp, dtype: int64"
      ]
     },
     "execution_count": 88,
     "metadata": {},
     "output_type": "execute_result"
    }
   ],
   "source": [
    "# CP refers to Chestpain Type \n",
    "df.cp.value_counts()"
   ]
  },
  {
   "cell_type": "code",
   "execution_count": 89,
   "id": "9f314baf",
   "metadata": {},
   "outputs": [
    {
     "data": {
      "image/png": "[encoded data removed]",
      "text/plain": [
       "<Figure size 432x288 with 1 Axes>"
      ]
     },
     "metadata": {
      "needs_background": "light"
     },
     "output_type": "display_data"
    }
   ],
   "source": [
    "df.cp.plot.hist();"
   ]
  },
  {
   "cell_type": "code",
   "execution_count": 104,
   "id": "3306b13a",
   "metadata": {},
   "outputs": [
    {
     "data": {
      "image/png": "[encoded data removed]",
      "text/plain": [
       "<Figure size 1080x720 with 2 Axes>"
      ]
     },
     "metadata": {
      "needs_background": "light"
     },
     "output_type": "display_data"
    }
   ],
   "source": [
    "# Create correlation matrix using Seaborn heatmap\n",
    "corr_matrix=df.corr()\n",
    "fig, ax =plt.subplots(figsize=(15,10))\n",
    "ax =sns.heatmap(corr_matrix,\n",
    "               annot=True,\n",
    "               fmt='.2f',\n",
    "               linewidths=0.5,\n",
    "               cmap='Accent')"
   ]
  },
  {
   "cell_type": "markdown",
   "id": "48430386",
   "metadata": {},
   "source": [
    "### Modelling"
   ]
  },
  {
   "cell_type": "code",
   "execution_count": 4,
   "id": "a2c27876",
   "metadata": {},
   "outputs": [],
   "source": [
    "# split features and label data\n",
    "X=df.drop('target', axis=1)\n",
    "y=df.target"
   ]
  },
  {
   "cell_type": "code",
   "execution_count": 5,
   "id": "ec6fdbf8",
   "metadata": {},
   "outputs": [],
   "source": [
    "# set unique value for random number\n",
    "np.random.seed(10)\n",
    "# Train Test split\n",
    "X_train,X_test,y_train,y_test = train_test_split(X, y, test_size=0.2)"
   ]
  },
  {
   "cell_type": "code",
   "execution_count": 21,
   "id": "dddecb01",
   "metadata": {},
   "outputs": [
    {
     "data": {
      "text/plain": [
       "((303, 13), (303,), (242, 13), (61, 13), (242,), (61,))"
      ]
     },
     "execution_count": 21,
     "metadata": {},
     "output_type": "execute_result"
    }
   ],
   "source": [
    "X.shape, y.shape, X_train.shape ,X_test.shape ,y_train.shape , y_test.shape"
   ]
  },
  {
   "cell_type": "code",
   "execution_count": 65,
   "id": "77963ca0",
   "metadata": {},
   "outputs": [
    {
     "data": {
      "text/plain": [
       "{'Logistic Regression': LogisticRegression(max_iter=1000),\n",
       " 'KNN': KNeighborsClassifier(),\n",
       " 'Random Forest': RandomForestClassifier(),\n",
       " 'Support Vector Classification': SVC()}"
      ]
     },
     "execution_count": 65,
     "metadata": {},
     "output_type": "execute_result"
    }
   ],
   "source": [
    "# Create a Dictionary for Machine Learning Algorithms\n",
    "models={'Logistic Regression':LogisticRegression(max_iter=1000),\n",
    "        'KNN':KNeighborsClassifier(),\n",
    "        'Random Forest':RandomForestClassifier(),\n",
    "       'Support Vector Classification':SVC()}\n",
    "models"
   ]
  },
  {
   "cell_type": "code",
   "execution_count": 66,
   "id": "9167a516",
   "metadata": {},
   "outputs": [],
   "source": [
    "# Create a function to fit and score the models\n",
    "def fit_and_score(models,X_train,X_test,y_train,y_test):\n",
    "    np.random.seed(10)\n",
    "    # Create an empty dictionary to update the model scores\n",
    "    model_score={}\n",
    "    # Create loop to pass the models\n",
    "    for name, model in models.items():\n",
    "        model.fit(X_train,y_train)\n",
    "        model_score[name]=model.score(X_test,y_test)\n",
    "    return model_score"
   ]
  },
  {
   "cell_type": "code",
   "execution_count": 67,
   "id": "cb29626e",
   "metadata": {},
   "outputs": [
    {
     "data": {
      "text/plain": [
       "{'Logistic Regression': 0.7704918032786885,\n",
       " 'KNN': 0.5901639344262295,\n",
       " 'Random Forest': 0.8032786885245902,\n",
       " 'Support Vector Classification': 0.5901639344262295}"
      ]
     },
     "execution_count": 67,
     "metadata": {},
     "output_type": "execute_result"
    }
   ],
   "source": [
    "model_score=fit_and_score(models=models,\n",
    "            X_train=X_train,\n",
    "            X_test=X_test,\n",
    "            y_train=y_train,\n",
    "            y_test=y_test)\n",
    "model_score"
   ]
  },
  {
   "cell_type": "code",
   "execution_count": 57,
   "id": "ff44c3bf",
   "metadata": {},
   "outputs": [
    {
     "data": {
      "text/html": [
       "<div>\n",
       "<style scoped>\n",
       "    .dataframe tbody tr th:only-of-type {\n",
       "        vertical-align: middle;\n",
       "    }\n",
       "\n",
       "    .dataframe tbody tr th {\n",
       "        vertical-align: top;\n",
       "    }\n",
       "\n",
       "    .dataframe thead th {\n",
       "        text-align: right;\n",
       "    }\n",
       "</style>\n",
       "<table border=\"1\" class=\"dataframe\">\n",
       "  <thead>\n",
       "    <tr style=\"text-align: right;\">\n",
       "      <th></th>\n",
       "      <th>Logistic Regression</th>\n",
       "      <th>KNN</th>\n",
       "      <th>Random Forest</th>\n",
       "      <th>Support Vector Classification</th>\n",
       "    </tr>\n",
       "  </thead>\n",
       "  <tbody>\n",
       "    <tr>\n",
       "      <th>Accuracy_score</th>\n",
       "      <td>0.770492</td>\n",
       "      <td>0.590164</td>\n",
       "      <td>0.803279</td>\n",
       "      <td>0.590164</td>\n",
       "    </tr>\n",
       "  </tbody>\n",
       "</table>\n",
       "</div>"
      ],
      "text/plain": [
       "                Logistic Regression       KNN  Random Forest  \\\n",
       "Accuracy_score             0.770492  0.590164       0.803279   \n",
       "\n",
       "                Support Vector Classification  \n",
       "Accuracy_score                       0.590164  "
      ]
     },
     "execution_count": 57,
     "metadata": {},
     "output_type": "execute_result"
    }
   ],
   "source": [
    "compare_model=pd.DataFrame(model_score,index=['Accuracy_score'])\n",
    "compare_model"
   ]
  },
  {
   "cell_type": "code",
   "execution_count": 64,
   "id": "788e9554",
   "metadata": {},
   "outputs": [
    {
     "data": {
      "image/png": "[encoded data removed]",
      "text/plain": [
       "<Figure size 432x288 with 1 Axes>"
      ]
     },
     "metadata": {
      "needs_background": "light"
     },
     "output_type": "display_data"
    }
   ],
   "source": [
    "#transpose the row/columns to look better\n",
    "compare_model.T.plot(kind='bar',legend=False)\n",
    "plt.title('Models_Accuracy_score');"
   ]
  },
  {
   "cell_type": "code",
   "execution_count": null,
   "id": "42fd5518",
   "metadata": {},
   "outputs": [],
   "source": [
    "# Let's leave KNN and SVC models as of now as it gives less score. "
   ]
  },
  {
   "cell_type": "markdown",
   "id": "452e5c6b",
   "metadata": {},
   "source": [
    "#### Hyper Parameter Tuning using RandomizedsearchCV (Cross validation)"
   ]
  },
  {
   "cell_type": "code",
   "execution_count": 76,
   "id": "e9a58b18",
   "metadata": {},
   "outputs": [
    {
     "name": "stdout",
     "output_type": "stream",
     "text": [
      "1\n",
      "3\n",
      "5\n",
      "7\n",
      "9\n",
      "11\n",
      "13\n",
      "15\n",
      "17\n",
      "19\n"
     ]
    }
   ],
   "source": [
    "np.arange(1,20,2)\n",
    "for i in range(1,20,2):\n",
    "    print(i)"
   ]
  },
  {
   "cell_type": "markdown",
   "id": "197310a6",
   "metadata": {},
   "source": [
    "#### Hyper Parameter Tuning using RandomizedsearchCV"
   ]
  },
  {
   "cell_type": "code",
   "execution_count": 19,
   "id": "11835d5f",
   "metadata": {},
   "outputs": [],
   "source": [
    "#Hyper parameter grid for Logistic Regression\n",
    "logis_reg_grid={'C':np.logspace(-4,4,20),\n",
    "               'solver':['liblinear']}\n",
    "\n",
    "# Hyper parameter grid for Random Forest Classifier\n",
    "ran_for_grid={'n_estimators':np.arange(10,50,100),\n",
    "             'max_depth':[None,3,5,10],\n",
    "             'min_samples_split':np.arange(2,20,2),\n",
    "             'min_samples_leaf':np.arange(1,20,2)}"
   ]
  },
  {
   "cell_type": "code",
   "execution_count": 20,
   "id": "311c5b50",
   "metadata": {},
   "outputs": [
    {
     "name": "stdout",
     "output_type": "stream",
     "text": [
      "Fitting 5 folds for each of 20 candidates, totalling 100 fits\n"
     ]
    },
    {
     "data": {
      "text/plain": [
       "RandomizedSearchCV(cv=5, estimator=LogisticRegression(), n_iter=20,\n",
       "                   param_distributions={'C': array([1.00000000e-04, 2.63665090e-04, 6.95192796e-04, 1.83298071e-03,\n",
       "       4.83293024e-03, 1.27427499e-02, 3.35981829e-02, 8.85866790e-02,\n",
       "       2.33572147e-01, 6.15848211e-01, 1.62377674e+00, 4.28133240e+00,\n",
       "       1.12883789e+01, 2.97635144e+01, 7.84759970e+01, 2.06913808e+02,\n",
       "       5.45559478e+02, 1.43844989e+03, 3.79269019e+03, 1.00000000e+04]),\n",
       "                                        'solver': ['liblinear']},\n",
       "                   verbose=True)"
      ]
     },
     "execution_count": 20,
     "metadata": {},
     "output_type": "execute_result"
    }
   ],
   "source": [
    "# Tune LS model\n",
    "cv_log_reg=RandomizedSearchCV(LogisticRegression(),\n",
    "                             param_distributions=logis_reg_grid,\n",
    "                             cv=5,\n",
    "                             n_iter=20,\n",
    "                             verbose=True)\n",
    "\n",
    "cv_log_reg.fit(X_train,y_train)"
   ]
  },
  {
   "cell_type": "code",
   "execution_count": 27,
   "id": "394514e8",
   "metadata": {},
   "outputs": [
    {
     "data": {
      "text/plain": [
       "{'solver': 'liblinear', 'C': 0.23357214690901212}"
      ]
     },
     "execution_count": 27,
     "metadata": {},
     "output_type": "execute_result"
    }
   ],
   "source": [
    "cv_log_reg.best_params_"
   ]
  },
  {
   "cell_type": "code",
   "execution_count": 28,
   "id": "e58617c8",
   "metadata": {},
   "outputs": [
    {
     "data": {
      "text/plain": [
       "0.7704918032786885"
      ]
     },
     "execution_count": 28,
     "metadata": {},
     "output_type": "execute_result"
    }
   ],
   "source": [
    "cv_log_reg.score(X_test,y_test)"
   ]
  },
  {
   "cell_type": "code",
   "execution_count": null,
   "id": "80235633",
   "metadata": {},
   "outputs": [],
   "source": [
    "# We don't see any improvement for LS model"
   ]
  },
  {
   "cell_type": "code",
   "execution_count": 26,
   "id": "2422ab8e",
   "metadata": {},
   "outputs": [
    {
     "name": "stdout",
     "output_type": "stream",
     "text": [
      "Fitting 5 folds for each of 20 candidates, totalling 100 fits\n"
     ]
    },
    {
     "data": {
      "text/plain": [
       "RandomizedSearchCV(cv=5, estimator=RandomForestClassifier(), n_iter=20,\n",
       "                   param_distributions={'max_depth': [None, 3, 5, 10],\n",
       "                                        'min_samples_leaf': array([ 1,  3,  5,  7,  9, 11, 13, 15, 17, 19]),\n",
       "                                        'min_samples_split': array([ 2,  4,  6,  8, 10, 12, 14, 16, 18]),\n",
       "                                        'n_estimators': array([10])},\n",
       "                   verbose=True)"
      ]
     },
     "execution_count": 26,
     "metadata": {},
     "output_type": "execute_result"
    }
   ],
   "source": [
    "# Tune RF model\n",
    "ran_for_reg=RandomizedSearchCV(RandomForestClassifier(),\n",
    "                              param_distributions=ran_for_grid,\n",
    "                              cv=5,\n",
    "                              n_iter=20,\n",
    "                              verbose=True)\n",
    "ran_for_reg.fit(X_train,y_train)"
   ]
  },
  {
   "cell_type": "code",
   "execution_count": 29,
   "id": "f3f803e7",
   "metadata": {},
   "outputs": [
    {
     "data": {
      "text/plain": [
       "{'n_estimators': 10,\n",
       " 'min_samples_split': 4,\n",
       " 'min_samples_leaf': 7,\n",
       " 'max_depth': 5}"
      ]
     },
     "execution_count": 29,
     "metadata": {},
     "output_type": "execute_result"
    }
   ],
   "source": [
    "ran_for_reg.best_params_"
   ]
  },
  {
   "cell_type": "code",
   "execution_count": 30,
   "id": "32c24608",
   "metadata": {},
   "outputs": [
    {
     "data": {
      "text/plain": [
       "0.819672131147541"
      ]
     },
     "execution_count": 30,
     "metadata": {},
     "output_type": "execute_result"
    }
   ],
   "source": [
    "ran_for_reg.score(X_test,y_test)"
   ]
  },
  {
   "cell_type": "code",
   "execution_count": null,
   "id": "3ac591e4",
   "metadata": {},
   "outputs": [],
   "source": [
    "# There is an improvement in the score "
   ]
  },
  {
   "cell_type": "markdown",
   "id": "203bbe07",
   "metadata": {},
   "source": [
    "#### Hyper Parameter tuning using GridSearchCV "
   ]
  },
  {
   "cell_type": "code",
   "execution_count": 34,
   "id": "272d8065",
   "metadata": {},
   "outputs": [
    {
     "name": "stdout",
     "output_type": "stream",
     "text": [
      "Fitting 5 folds for each of 30 candidates, totalling 150 fits\n"
     ]
    },
    {
     "data": {
      "text/plain": [
       "GridSearchCV(cv=5, estimator=LogisticRegression(),\n",
       "             param_grid={'C': array([1.00000000e-04, 1.88739182e-04, 3.56224789e-04, 6.72335754e-04,\n",
       "       1.26896100e-03, 2.39502662e-03, 4.52035366e-03, 8.53167852e-03,\n",
       "       1.61026203e-02, 3.03919538e-02, 5.73615251e-02, 1.08263673e-01,\n",
       "       2.04335972e-01, 3.85662042e-01, 7.27895384e-01, 1.37382380e+00,\n",
       "       2.59294380e+00, 4.89390092e+00, 9.23670857e+00, 1.74332882e+01,\n",
       "       3.29034456e+01, 6.21016942e+01, 1.17210230e+02, 2.21221629e+02,\n",
       "       4.17531894e+02, 7.88046282e+02, 1.48735211e+03, 2.80721620e+03,\n",
       "       5.29831691e+03, 1.00000000e+04]),\n",
       "                         'solver': ['liblinear']},\n",
       "             verbose=True)"
      ]
     },
     "execution_count": 34,
     "metadata": {},
     "output_type": "execute_result"
    }
   ],
   "source": [
    "#Hyper parameter grid for Logistic Regression\n",
    "log_reg_grid={'C':np.logspace(-4,4,30),\n",
    "               'solver':['liblinear']}\n",
    " \n",
    "gs_log_reg=GridSearchCV(LogisticRegression(),\n",
    "                             param_grid=log_reg_grid,\n",
    "                             cv=5,\n",
    "                             verbose=True)\n",
    "\n",
    "gs_log_reg.fit(X_train,y_train)"
   ]
  },
  {
   "cell_type": "code",
   "execution_count": 35,
   "id": "22b7c349",
   "metadata": {},
   "outputs": [
    {
     "data": {
      "text/plain": [
       "{'C': 0.20433597178569418, 'solver': 'liblinear'}"
      ]
     },
     "execution_count": 35,
     "metadata": {},
     "output_type": "execute_result"
    }
   ],
   "source": [
    "gs_log_reg.best_params_"
   ]
  },
  {
   "cell_type": "code",
   "execution_count": 36,
   "id": "787874b7",
   "metadata": {},
   "outputs": [
    {
     "data": {
      "text/plain": [
       "0.7704918032786885"
      ]
     },
     "execution_count": 36,
     "metadata": {},
     "output_type": "execute_result"
    }
   ],
   "source": [
    "gs_log_reg.score(X_test,y_test)"
   ]
  },
  {
   "cell_type": "code",
   "execution_count": null,
   "id": "482b9d4f",
   "metadata": {},
   "outputs": [],
   "source": [
    "# There is No improvement in the score. We need to try with different params."
   ]
  },
  {
   "cell_type": "code",
   "execution_count": 102,
   "id": "1a12c6de",
   "metadata": {},
   "outputs": [
    {
     "name": "stdout",
     "output_type": "stream",
     "text": [
      "Fitting 5 folds for each of 720 candidates, totalling 3600 fits\n"
     ]
    },
    {
     "data": {
      "text/plain": [
       "GridSearchCV(cv=5, estimator=RandomForestClassifier(),\n",
       "             param_grid={'max_depth': [None, 5],\n",
       "                         'min_samples_leaf': array([ 1,  3,  5,  7,  9, 11, 13, 15, 17, 19, 21, 23, 25, 27, 29]),\n",
       "                         'min_samples_split': array([ 2,  4,  6,  8, 10, 12, 14, 16, 18, 20, 22, 24, 26, 28, 30, 32, 34,\n",
       "       36, 38, 40, 42, 44, 46, 48]),\n",
       "                         'n_estimators': array([10])},\n",
       "             verbose=True)"
      ]
     },
     "execution_count": 102,
     "metadata": {},
     "output_type": "execute_result"
    }
   ],
   "source": [
    "#Hyper parameter grid for Random Forest Calssifier\n",
    "\n",
    "ran_for_grid={'n_estimators':np.arange(10,50,100),\n",
    "             'max_depth':[None,5],\n",
    "             'min_samples_split':np.arange(2,50,2),\n",
    "             'min_samples_leaf':np.arange(1,30,2)}\n",
    " \n",
    "gs_rf=GridSearchCV(RandomForestClassifier(),\n",
    "                              param_grid=ran_for_grid,\n",
    "                              cv=5,\n",
    "                              verbose=True)\n",
    "gs_rf.fit(X_train,y_train)"
   ]
  },
  {
   "cell_type": "code",
   "execution_count": 105,
   "id": "b64c4235",
   "metadata": {},
   "outputs": [
    {
     "data": {
      "text/plain": [
       "{'max_depth': 5,\n",
       " 'min_samples_leaf': 7,\n",
       " 'min_samples_split': 30,\n",
       " 'n_estimators': 10}"
      ]
     },
     "execution_count": 105,
     "metadata": {},
     "output_type": "execute_result"
    }
   ],
   "source": [
    "gs_rf.best_params_"
   ]
  },
  {
   "cell_type": "code",
   "execution_count": 106,
   "id": "a6b72fce",
   "metadata": {},
   "outputs": [
    {
     "data": {
      "text/plain": [
       "0.8360655737704918"
      ]
     },
     "execution_count": 106,
     "metadata": {},
     "output_type": "execute_result"
    }
   ],
   "source": [
    "gs_rf.score(X_test,y_test)"
   ]
  },
  {
   "cell_type": "code",
   "execution_count": 107,
   "id": "2b5d95b0",
   "metadata": {},
   "outputs": [
    {
     "data": {
      "text/plain": [
       "array([0, 0, 0, 1, 0, 1, 1, 1, 1, 0, 1, 0, 0, 1, 0, 1, 0, 0, 1, 0, 0, 1,\n",
       "       1, 1, 0, 0, 0, 0, 1, 0, 1, 0, 0, 0, 0, 0, 1, 0, 1, 0, 0, 0, 1, 1,\n",
       "       1, 0, 1, 1, 1, 0, 0, 1, 0, 0, 1, 1, 1, 1, 0, 0, 1], dtype=int64)"
      ]
     },
     "execution_count": 107,
     "metadata": {},
     "output_type": "execute_result"
    }
   ],
   "source": [
    "y_preds=gs_rf.predict(X_test)\n",
    "y_preds"
   ]
  },
  {
   "cell_type": "markdown",
   "id": "67065055",
   "metadata": {},
   "source": [
    "#### Evaluating the model"
   ]
  },
  {
   "cell_type": "markdown",
   "id": "cc8288f9",
   "metadata": {},
   "source": [
    "### The above \"Random forest classifier \" gridsearch cv gives better score among all the models based on Hyper parameter Tuning"
   ]
  },
  {
   "cell_type": "code",
   "execution_count": 108,
   "id": "f31a692f",
   "metadata": {},
   "outputs": [
    {
     "data": {
      "image/png": "[encoded data removed]",
      "text/plain": [
       "<Figure size 432x288 with 1 Axes>"
      ]
     },
     "metadata": {
      "needs_background": "light"
     },
     "output_type": "display_data"
    }
   ],
   "source": [
    "# plot roc curve and find AUC metric\n",
    "plot_roc_curve(gs_rf,X_test,y_test);"
   ]
  },
  {
   "cell_type": "code",
   "execution_count": 109,
   "id": "78e074ff",
   "metadata": {},
   "outputs": [
    {
     "data": {
      "text/plain": [
       "array([[29,  6],\n",
       "       [ 4, 22]], dtype=int64)"
      ]
     },
     "execution_count": 109,
     "metadata": {},
     "output_type": "execute_result"
    }
   ],
   "source": [
    "confusion_matrix(y_test,y_preds)"
   ]
  },
  {
   "cell_type": "code",
   "execution_count": 110,
   "id": "622b05f6",
   "metadata": {},
   "outputs": [
    {
     "data": {
      "image/png": "[encoded data removed]",
      "text/plain": [
       "<Figure size 216x216 with 1 Axes>"
      ]
     },
     "metadata": {
      "needs_background": "light"
     },
     "output_type": "display_data"
    }
   ],
   "source": [
    "# Create correlation matrix using Seaborn heatmap\n",
    "\n",
    "def confusion_matrix_plot(y_test,y_preds):\n",
    "    fig, ax =plt.subplots(figsize=(3,3))\n",
    "    ax =sns.heatmap(confusion_matrix(y_test,y_preds),\n",
    "                    annot=True,\n",
    "                    cbar=False,\n",
    "                    cmap='Accent')\n",
    "    #plt.xlabel(\"Predicted value\")\n",
    "    #plt.ylabel(\"True value\")\n",
    "    \n",
    "confusion_matrix_plot(y_test,y_preds)"
   ]
  },
  {
   "cell_type": "code",
   "execution_count": 111,
   "id": "ecff393d",
   "metadata": {},
   "outputs": [
    {
     "name": "stdout",
     "output_type": "stream",
     "text": [
      "              precision    recall  f1-score   support\n",
      "\n",
      "           0       0.88      0.83      0.85        35\n",
      "           1       0.79      0.85      0.81        26\n",
      "\n",
      "    accuracy                           0.84        61\n",
      "   macro avg       0.83      0.84      0.83        61\n",
      "weighted avg       0.84      0.84      0.84        61\n",
      "\n"
     ]
    }
   ],
   "source": [
    "print(classification_report(y_test,y_preds))"
   ]
  },
  {
   "cell_type": "code",
   "execution_count": 112,
   "id": "0a62ce17",
   "metadata": {},
   "outputs": [
    {
     "data": {
      "text/plain": [
       "{'max_depth': 5,\n",
       " 'min_samples_leaf': 7,\n",
       " 'min_samples_split': 30,\n",
       " 'n_estimators': 10}"
      ]
     },
     "execution_count": 112,
     "metadata": {},
     "output_type": "execute_result"
    }
   ],
   "source": [
    "# find best hyper parameter from above trials\n",
    "gs_rf.best_params_"
   ]
  },
  {
   "cell_type": "code",
   "execution_count": 113,
   "id": "8d86284b",
   "metadata": {},
   "outputs": [
    {
     "data": {
      "text/plain": [
       "RandomForestClassifier(max_depth=5, min_samples_leaf=7, min_samples_split=30,\n",
       "                       n_estimators=10)"
      ]
     },
     "execution_count": 113,
     "metadata": {},
     "output_type": "execute_result"
    }
   ],
   "source": [
    "rf= RandomForestClassifier(n_estimators=10,\n",
    "                           max_depth=5,\n",
    "                          min_samples_split=30,\n",
    "                          min_samples_leaf=7)\n",
    "rf"
   ]
  },
  {
   "cell_type": "code",
   "execution_count": 114,
   "id": "e85f9552",
   "metadata": {},
   "outputs": [
    {
     "data": {
      "text/plain": [
       "array([0.81967213, 0.8852459 , 0.83606557, 0.76666667, 0.73333333])"
      ]
     },
     "execution_count": 114,
     "metadata": {},
     "output_type": "execute_result"
    }
   ],
   "source": [
    "#cross_validation accuracy\n",
    "cv_accuracy= cross_val_score(rf, X, y, cv=5, scoring='accuracy') \n",
    "cv_accuracy"
   ]
  },
  {
   "cell_type": "code",
   "execution_count": 115,
   "id": "ab2da871",
   "metadata": {},
   "outputs": [
    {
     "data": {
      "text/plain": [
       "0.8081967213114755"
      ]
     },
     "execution_count": 115,
     "metadata": {},
     "output_type": "execute_result"
    }
   ],
   "source": [
    "cv_accuracy=np.mean(cv_accuracy)\n",
    "cv_accuracy"
   ]
  },
  {
   "cell_type": "code",
   "execution_count": 116,
   "id": "af4f1f33",
   "metadata": {},
   "outputs": [
    {
     "data": {
      "text/plain": [
       "0.8391178927711437"
      ]
     },
     "execution_count": 116,
     "metadata": {},
     "output_type": "execute_result"
    }
   ],
   "source": [
    "# cross_validation precision\n",
    "cv_precision= np.mean(cross_val_score(rf, X, y, cv=5, scoring='precision'))\n",
    "cv_precision"
   ]
  },
  {
   "cell_type": "code",
   "execution_count": 117,
   "id": "5ffc9ba0",
   "metadata": {},
   "outputs": [
    {
     "data": {
      "text/plain": [
       "0.8727272727272727"
      ]
     },
     "execution_count": 117,
     "metadata": {},
     "output_type": "execute_result"
    }
   ],
   "source": [
    "# cross_validation recall\n",
    "cv_recall= np.mean(cross_val_score(rf, X, y, cv=5, scoring='recall'))\n",
    "cv_recall"
   ]
  },
  {
   "cell_type": "code",
   "execution_count": 118,
   "id": "7ba9d128",
   "metadata": {},
   "outputs": [
    {
     "data": {
      "text/plain": [
       "0.8497043766673877"
      ]
     },
     "execution_count": 118,
     "metadata": {},
     "output_type": "execute_result"
    }
   ],
   "source": [
    "# cross_validation f1 score\n",
    "cv_f1score= np.mean(cross_val_score(rf, X, y, cv=5, scoring='f1'))\n",
    "cv_f1score"
   ]
  },
  {
   "cell_type": "code",
   "execution_count": 119,
   "id": "99ec5788",
   "metadata": {},
   "outputs": [
    {
     "data": {
      "image/png": "[encoded data removed]",
      "text/plain": [
       "<Figure size 432x288 with 1 Axes>"
      ]
     },
     "metadata": {
      "needs_background": "light"
     },
     "output_type": "display_data"
    }
   ],
   "source": [
    "# cross validation metrics \n",
    "cv_metrics=pd.DataFrame({'Accuracy':cv_accuracy,\n",
    "                         'Precision':cv_precision,\n",
    "                         'Recall':cv_recall,\n",
    "                         'F1score':cv_f1score},\n",
    "                        index=[0])\n",
    "cv_metrics.T.plot.bar(title='Cross Validation Metrics',\n",
    "                     legend=False);"
   ]
  },
  {
   "cell_type": "markdown",
   "id": "9011254e",
   "metadata": {},
   "source": [
    "#### Feature Importance\n",
    "##### Identify which features contribute more in the model to find patterns and better accuracy"
   ]
  },
  {
   "cell_type": "code",
   "execution_count": 121,
   "id": "6ee2d7a1",
   "metadata": {},
   "outputs": [
    {
     "data": {
      "text/plain": [
       "{'max_depth': 5,\n",
       " 'min_samples_leaf': 7,\n",
       " 'min_samples_split': 30,\n",
       " 'n_estimators': 10}"
      ]
     },
     "execution_count": 121,
     "metadata": {},
     "output_type": "execute_result"
    }
   ],
   "source": [
    "gs_rf.best_params_"
   ]
  },
  {
   "cell_type": "code",
   "execution_count": 122,
   "id": "a48612d5",
   "metadata": {},
   "outputs": [
    {
     "data": {
      "text/plain": [
       "RandomForestClassifier(max_depth=5, min_samples_leaf=7, min_samples_split=30,\n",
       "                       n_estimators=10)"
      ]
     },
     "execution_count": 122,
     "metadata": {},
     "output_type": "execute_result"
    }
   ],
   "source": [
    "rf= RandomForestClassifier(n_estimators=10,\n",
    "                           max_depth=5,\n",
    "                          min_samples_split=30,\n",
    "                          min_samples_leaf=7)\n",
    "rf\n",
    "\n",
    "rf.fit(X_train , y_train)"
   ]
  },
  {
   "cell_type": "code",
   "execution_count": 123,
   "id": "ef5387ef",
   "metadata": {},
   "outputs": [
    {
     "data": {
      "text/plain": [
       "array([0.03006876, 0.06299851, 0.32374395, 0.00501047, 0.00760103,\n",
       "       0.00042189, 0.00555106, 0.08059674, 0.0274905 , 0.08367932,\n",
       "       0.02527788, 0.19528096, 0.15227893])"
      ]
     },
     "execution_count": 123,
     "metadata": {},
     "output_type": "execute_result"
    }
   ],
   "source": [
    "rf.feature_importances_"
   ]
  },
  {
   "cell_type": "code",
   "execution_count": 124,
   "id": "ed0d50a1",
   "metadata": {},
   "outputs": [
    {
     "data": {
      "text/plain": [
       "{'age': 0.030068761206196875,\n",
       " 'sex': 0.06299850890618333,\n",
       " 'cp': 0.32374394849559335,\n",
       " 'trestbps': 0.005010465875178522,\n",
       " 'chol': 0.00760103155932763,\n",
       " 'fbs': 0.0004218939648881709,\n",
       " 'restecg': 0.005551057564152742,\n",
       " 'thalach': 0.08059674494446167,\n",
       " 'exang': 0.027490498409194843,\n",
       " 'oldpeak': 0.08367932278655281,\n",
       " 'slope': 0.025277884772502517,\n",
       " 'ca': 0.1952809559044314,\n",
       " 'thal': 0.1522789256113363}"
      ]
     },
     "execution_count": 124,
     "metadata": {},
     "output_type": "execute_result"
    }
   ],
   "source": [
    "feature_impt=dict(zip(df.columns,list(rf.feature_importances_)))\n",
    "feature_impt"
   ]
  },
  {
   "cell_type": "code",
   "execution_count": 125,
   "id": "4db26577",
   "metadata": {},
   "outputs": [
    {
     "data": {
      "image/png": "[encoded data removed]",
      "text/plain": [
       "<Figure size 432x288 with 1 Axes>"
      ]
     },
     "metadata": {
      "needs_background": "light"
     },
     "output_type": "display_data"
    }
   ],
   "source": [
    "feature_df=pd.DataFrame(feature_impt,index=[0])\n",
    "\n",
    "feature_df.T.plot.bar(legend=False);"
   ]
  },
  {
   "cell_type": "markdown",
   "id": "c0b7961b",
   "metadata": {},
   "source": [
    "#### Positively correlated columns with the label (target)\n",
    "* CP (Chest Pain Type), \n",
    "* ca(number of major vessels),\n",
    "* thala"
   ]
  },
  {
   "cell_type": "markdown",
   "id": "0ff07165",
   "metadata": {},
   "source": [
    "### Conclusion\n",
    "\n",
    "* We have got an maximum score of 81% with 'Random Forest Classifier'. In order to get better score, \n",
    "** We may need to collect more data\n",
    "** We may need to try with different classification models\n",
    "** We may need to try with different parameters in Hyper parameter tuning for the current model  "
   ]
  },
  {
   "cell_type": "markdown",
   "id": "e18e8814",
   "metadata": {},
   "source": [
    "#### Save and load model"
   ]
  },
  {
   "cell_type": "code",
   "execution_count": 127,
   "id": "a62bcc6e",
   "metadata": {},
   "outputs": [],
   "source": [
    "import pickle\n",
    "\n",
    "pickle.dump(gs_rf, open('Heart_Disease_Predict_Random_Forest_Classifer_model.pk1','wb'))"
   ]
  },
  {
   "cell_type": "code",
   "execution_count": 128,
   "id": "4815bab5",
   "metadata": {},
   "outputs": [
    {
     "data": {
      "text/plain": [
       "GridSearchCV(cv=5, estimator=RandomForestClassifier(),\n",
       "             param_grid={'max_depth': [None, 5],\n",
       "                         'min_samples_leaf': array([ 1,  3,  5,  7,  9, 11, 13, 15, 17, 19, 21, 23, 25, 27, 29]),\n",
       "                         'min_samples_split': array([ 2,  4,  6,  8, 10, 12, 14, 16, 18, 20, 22, 24, 26, 28, 30, 32, 34,\n",
       "       36, 38, 40, 42, 44, 46, 48]),\n",
       "                         'n_estimators': array([10])},\n",
       "             verbose=True)"
      ]
     },
     "execution_count": 128,
     "metadata": {},
     "output_type": "execute_result"
    }
   ],
   "source": [
    "loaded_model=pickle.load(open('Heart_Disease_Predict_Random_Forest_Classifer_model.pk1','rb'))\n",
    "loaded_model"
   ]
  },
  {
   "cell_type": "code",
   "execution_count": 129,
   "id": "6dde996b",
   "metadata": {},
   "outputs": [
    {
     "data": {
      "text/plain": [
       "['Heart_Disease_Predict_Random_Forest_Classifer_model1.joblib']"
      ]
     },
     "execution_count": 129,
     "metadata": {},
     "output_type": "execute_result"
    }
   ],
   "source": [
    "from joblib import dump, load\n",
    "\n",
    "dump(gs_rf , filename='Heart_Disease_Predict_Random_Forest_Classifer_model1.joblib')"
   ]
  },
  {
   "cell_type": "code",
   "execution_count": 132,
   "id": "4f8eb11e",
   "metadata": {},
   "outputs": [
    {
     "data": {
      "text/plain": [
       "GridSearchCV(cv=5, estimator=RandomForestClassifier(),\n",
       "             param_grid={'max_depth': [None, 5],\n",
       "                         'min_samples_leaf': array([ 1,  3,  5,  7,  9, 11, 13, 15, 17, 19, 21, 23, 25, 27, 29]),\n",
       "                         'min_samples_split': array([ 2,  4,  6,  8, 10, 12, 14, 16, 18, 20, 22, 24, 26, 28, 30, 32, 34,\n",
       "       36, 38, 40, 42, 44, 46, 48]),\n",
       "                         'n_estimators': array([10])},\n",
       "             verbose=True)"
      ]
     },
     "execution_count": 132,
     "metadata": {},
     "output_type": "execute_result"
    }
   ],
   "source": [
    "loaded_model=load(filename='Heart_Disease_Predict_Random_Forest_Classifer_model1.joblib')\n",
    "loaded_model"
   ]
  }
 ],
 "metadata": {
  "kernelspec": {
   "display_name": "Python 3",
   "language": "python",
   "name": "python3"
  },
  "language_info": {
   "codemirror_mode": {
    "name": "ipython",
    "version": 3
   },
   "file_extension": ".py",
   "mimetype": "text/x-python",
   "name": "python",
   "nbconvert_exporter": "python",
   "pygments_lexer": "ipython3",
   "version": "3.8.8"
  }
 },
 "nbformat": 4,
 "nbformat_minor": 5
}
